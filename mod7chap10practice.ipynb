{
 "cells": [
  {
   "cell_type": "code",
   "execution_count": 1,
   "id": "37780984",
   "metadata": {},
   "outputs": [
    {
     "name": "stdout",
     "output_type": "stream",
     "text": [
      "C:\\Users\\chris\\Documents\\44-608Fundamentals\\IntroToPython\\examples\\ch10\n"
     ]
    }
   ],
   "source": [
    "cd C:\\Users\\chris\\Documents\\44-608Fundamentals\\IntroToPython\\examples\\ch10"
   ]
  },
  {
   "cell_type": "code",
   "execution_count": 2,
   "id": "6f9e5871",
   "metadata": {},
   "outputs": [],
   "source": [
    "#10.2\n",
    "from account import Account"
   ]
  },
  {
   "cell_type": "code",
   "execution_count": 3,
   "id": "fab31cfd",
   "metadata": {},
   "outputs": [],
   "source": [
    "from decimal import Decimal"
   ]
  },
  {
   "cell_type": "code",
   "execution_count": 4,
   "id": "a05d3bca",
   "metadata": {},
   "outputs": [],
   "source": [
    "#Getting the account name and balance\n",
    "account1 = Account('John Green', Decimal('50.00'))"
   ]
  },
  {
   "cell_type": "code",
   "execution_count": 5,
   "id": "f5bd46c9",
   "metadata": {},
   "outputs": [
    {
     "data": {
      "text/plain": [
       "'John Green'"
      ]
     },
     "execution_count": 5,
     "metadata": {},
     "output_type": "execute_result"
    }
   ],
   "source": [
    "account1.name"
   ]
  },
  {
   "cell_type": "code",
   "execution_count": 6,
   "id": "b8668480",
   "metadata": {},
   "outputs": [
    {
     "data": {
      "text/plain": [
       "Decimal('50.00')"
      ]
     },
     "execution_count": 6,
     "metadata": {},
     "output_type": "execute_result"
    }
   ],
   "source": [
    "account1.balance"
   ]
  },
  {
   "cell_type": "code",
   "execution_count": 7,
   "id": "2497016e",
   "metadata": {},
   "outputs": [],
   "source": [
    "#Deposit into account\n",
    "account1.deposit(Decimal('25.53'))"
   ]
  },
  {
   "cell_type": "code",
   "execution_count": 8,
   "id": "c7d01d14",
   "metadata": {},
   "outputs": [
    {
     "data": {
      "text/plain": [
       "Decimal('75.53')"
      ]
     },
     "execution_count": 8,
     "metadata": {},
     "output_type": "execute_result"
    }
   ],
   "source": [
    "account1.balance"
   ]
  },
  {
   "cell_type": "code",
   "execution_count": 9,
   "id": "71a1ce6e",
   "metadata": {},
   "outputs": [
    {
     "ename": "ValueError",
     "evalue": "amount must be positive.",
     "output_type": "error",
     "traceback": [
      "\u001b[1;31m---------------------------------------------------------------------------\u001b[0m",
      "\u001b[1;31mValueError\u001b[0m                                Traceback (most recent call last)",
      "Input \u001b[1;32mIn [9]\u001b[0m, in \u001b[0;36m<cell line: 2>\u001b[1;34m()\u001b[0m\n\u001b[0;32m      1\u001b[0m \u001b[38;5;66;03m#You can't deposit a negative amount\u001b[39;00m\n\u001b[1;32m----> 2\u001b[0m \u001b[43maccount1\u001b[49m\u001b[38;5;241;43m.\u001b[39;49m\u001b[43mdeposit\u001b[49m\u001b[43m(\u001b[49m\u001b[43mDecimal\u001b[49m\u001b[43m(\u001b[49m\u001b[38;5;124;43m'\u001b[39;49m\u001b[38;5;124;43m-23\u001b[39;49m\u001b[38;5;124;43m'\u001b[39;49m\u001b[43m)\u001b[49m\u001b[43m)\u001b[49m\n",
      "File \u001b[1;32m~\\Documents\\44-608Fundamentals\\IntroToPython\\examples\\ch10\\account.py:23\u001b[0m, in \u001b[0;36mAccount.deposit\u001b[1;34m(self, amount)\u001b[0m\n\u001b[0;32m     21\u001b[0m \u001b[38;5;66;03m# if amount is less than 0.00, raise an exception\u001b[39;00m\n\u001b[0;32m     22\u001b[0m \u001b[38;5;28;01mif\u001b[39;00m amount \u001b[38;5;241m<\u001b[39m Decimal(\u001b[38;5;124m'\u001b[39m\u001b[38;5;124m0.00\u001b[39m\u001b[38;5;124m'\u001b[39m):\n\u001b[1;32m---> 23\u001b[0m     \u001b[38;5;28;01mraise\u001b[39;00m \u001b[38;5;167;01mValueError\u001b[39;00m(\u001b[38;5;124m'\u001b[39m\u001b[38;5;124mamount must be positive.\u001b[39m\u001b[38;5;124m'\u001b[39m)\n\u001b[0;32m     25\u001b[0m \u001b[38;5;28mself\u001b[39m\u001b[38;5;241m.\u001b[39mbalance \u001b[38;5;241m+\u001b[39m\u001b[38;5;241m=\u001b[39m amount\n",
      "\u001b[1;31mValueError\u001b[0m: amount must be positive."
     ]
    }
   ],
   "source": [
    "#You can't deposit a negative amount\n",
    "account1.deposit(Decimal('-23'))"
   ]
  },
  {
   "cell_type": "code",
   "execution_count": 10,
   "id": "6f31f421",
   "metadata": {},
   "outputs": [],
   "source": [
    "#viewing the classes docstring\n",
    "Account?"
   ]
  },
  {
   "cell_type": "code",
   "execution_count": null,
   "id": "c5cd5a66",
   "metadata": {},
   "outputs": [],
   "source": [
    "#testing the new withdraw account object\n",
    "\n",
    "from account import Account\n",
    "\n",
    "from decimal import Decimal\n",
    "\n",
    "account1 = Account('Chris Kollbaum', '56.00')\n",
    "\n",
    "account1.withdraw(Decimal('15.00'))\n",
    "\n",
    "account1.balance"
   ]
  },
  {
   "cell_type": "code",
   "execution_count": 10,
   "id": "9135ba93",
   "metadata": {},
   "outputs": [
    {
     "data": {
      "text/plain": [
       "Decimal('50.00')"
      ]
     },
     "execution_count": 10,
     "metadata": {},
     "output_type": "execute_result"
    }
   ],
   "source": [
    "#10.3\n",
    "from account import Account\n",
    "\n",
    "from decimal import Decimal\n",
    "\n",
    "account1 = Account('Chris Kollbaum', Decimal('50.00'))\n",
    "\n",
    "account1.balance\n"
   ]
  },
  {
   "cell_type": "code",
   "execution_count": 11,
   "id": "37e7b45a",
   "metadata": {},
   "outputs": [
    {
     "data": {
      "text/plain": [
       "Decimal('-100.00')"
      ]
     },
     "execution_count": 11,
     "metadata": {},
     "output_type": "execute_result"
    }
   ],
   "source": [
    "account1.balance = Decimal('-100.00')\n",
    "\n",
    "account1.balance"
   ]
  },
  {
   "cell_type": "code",
   "execution_count": 12,
   "id": "3ff3d133",
   "metadata": {},
   "outputs": [],
   "source": [
    "#10.4 Working with time \n",
    "\n",
    "from timewithproperties import Time\n"
   ]
  },
  {
   "cell_type": "code",
   "execution_count": 13,
   "id": "e0dc488a",
   "metadata": {},
   "outputs": [],
   "source": [
    "#Creating a time object\n",
    "wake_up = Time(hour=7, minute=15)"
   ]
  },
  {
   "cell_type": "code",
   "execution_count": 14,
   "id": "5f0b15b6",
   "metadata": {},
   "outputs": [
    {
     "data": {
      "text/plain": [
       "Time(hour=7, minute=15, second=0)"
      ]
     },
     "execution_count": 14,
     "metadata": {},
     "output_type": "execute_result"
    }
   ],
   "source": [
    "wake_up"
   ]
  },
  {
   "cell_type": "code",
   "execution_count": 15,
   "id": "73d6736f",
   "metadata": {},
   "outputs": [
    {
     "name": "stdout",
     "output_type": "stream",
     "text": [
      "7:15:00 AM\n"
     ]
    }
   ],
   "source": [
    "print(wake_up)"
   ]
  },
  {
   "cell_type": "code",
   "execution_count": 16,
   "id": "4b56c1ba",
   "metadata": {},
   "outputs": [
    {
     "data": {
      "text/plain": [
       "7"
      ]
     },
     "execution_count": 16,
     "metadata": {},
     "output_type": "execute_result"
    }
   ],
   "source": [
    "#Performing operations on the time object \n",
    "wake_up.hour"
   ]
  },
  {
   "cell_type": "code",
   "execution_count": 17,
   "id": "169825fe",
   "metadata": {},
   "outputs": [
    {
     "data": {
      "text/plain": [
       "Time(hour=8, minute=32, second=0)"
      ]
     },
     "execution_count": 17,
     "metadata": {},
     "output_type": "execute_result"
    }
   ],
   "source": [
    "#Setting the time\n",
    "wake_up.set_time(hour=8, minute=32)\n",
    "\n",
    "wake_up"
   ]
  },
  {
   "cell_type": "code",
   "execution_count": 18,
   "id": "d9d238dc",
   "metadata": {},
   "outputs": [
    {
     "data": {
      "text/plain": [
       "Time(hour=5, minute=32, second=0)"
      ]
     },
     "execution_count": 18,
     "metadata": {},
     "output_type": "execute_result"
    }
   ],
   "source": [
    "#changing the hour\n",
    "wake_up.hour = 5\n",
    "\n",
    "wake_up"
   ]
  },
  {
   "cell_type": "code",
   "execution_count": 19,
   "id": "f64cc8e1",
   "metadata": {},
   "outputs": [
    {
     "ename": "ValueError",
     "evalue": "Hour (100) must be 0-23",
     "output_type": "error",
     "traceback": [
      "\u001b[1;31m---------------------------------------------------------------------------\u001b[0m",
      "\u001b[1;31mValueError\u001b[0m                                Traceback (most recent call last)",
      "Input \u001b[1;32mIn [19]\u001b[0m, in \u001b[0;36m<cell line: 2>\u001b[1;34m()\u001b[0m\n\u001b[0;32m      1\u001b[0m \u001b[38;5;66;03m#Assigning an invalid hour\u001b[39;00m\n\u001b[1;32m----> 2\u001b[0m \u001b[43mwake_up\u001b[49m\u001b[38;5;241;43m.\u001b[39;49m\u001b[43mhour\u001b[49m\u001b[38;5;241m=\u001b[39m\u001b[38;5;241m100\u001b[39m\n",
      "File \u001b[1;32m~\\Documents\\44-608Fundamentals\\IntroToPython\\examples\\ch10\\timewithproperties.py:22\u001b[0m, in \u001b[0;36mTime.hour\u001b[1;34m(self, hour)\u001b[0m\n\u001b[0;32m     20\u001b[0m \u001b[38;5;124;03m\"\"\"Set the hour.\"\"\"\u001b[39;00m\n\u001b[0;32m     21\u001b[0m \u001b[38;5;28;01mif\u001b[39;00m \u001b[38;5;129;01mnot\u001b[39;00m (\u001b[38;5;241m0\u001b[39m \u001b[38;5;241m<\u001b[39m\u001b[38;5;241m=\u001b[39m hour \u001b[38;5;241m<\u001b[39m \u001b[38;5;241m24\u001b[39m):\n\u001b[1;32m---> 22\u001b[0m     \u001b[38;5;28;01mraise\u001b[39;00m \u001b[38;5;167;01mValueError\u001b[39;00m(\u001b[38;5;124mf\u001b[39m\u001b[38;5;124m'\u001b[39m\u001b[38;5;124mHour (\u001b[39m\u001b[38;5;132;01m{\u001b[39;00mhour\u001b[38;5;132;01m}\u001b[39;00m\u001b[38;5;124m) must be 0-23\u001b[39m\u001b[38;5;124m'\u001b[39m)\n\u001b[0;32m     24\u001b[0m \u001b[38;5;28mself\u001b[39m\u001b[38;5;241m.\u001b[39m_hour \u001b[38;5;241m=\u001b[39m hour\n",
      "\u001b[1;31mValueError\u001b[0m: Hour (100) must be 0-23"
     ]
    }
   ],
   "source": [
    "#Assigning an invalid hour\n",
    "wake_up.hour=100"
   ]
  },
  {
   "cell_type": "code",
   "execution_count": 20,
   "id": "33e705d9",
   "metadata": {},
   "outputs": [
    {
     "data": {
      "text/plain": [
       "Time(hour=0, minute=0, second=0)"
      ]
     },
     "execution_count": 20,
     "metadata": {},
     "output_type": "execute_result"
    }
   ],
   "source": [
    "#Testing the new property in Time object\n",
    "\n",
    "from timewithproperties import Time\n",
    "\n",
    "t = Time()\n",
    "\n",
    "t\n",
    "\n"
   ]
  },
  {
   "cell_type": "code",
   "execution_count": 21,
   "id": "789c5761",
   "metadata": {},
   "outputs": [
    {
     "data": {
      "text/plain": [
       "(12, 30, 45)"
      ]
     },
     "execution_count": 21,
     "metadata": {},
     "output_type": "execute_result"
    }
   ],
   "source": [
    "t.time = (12, 30, 45)\n",
    "\n",
    "\n",
    "t.time"
   ]
  },
  {
   "cell_type": "code",
   "execution_count": 22,
   "id": "338bcbdd",
   "metadata": {},
   "outputs": [
    {
     "data": {
      "text/plain": [
       "'public'"
      ]
     },
     "execution_count": 22,
     "metadata": {},
     "output_type": "execute_result"
    }
   ],
   "source": [
    "#10.5 private attributes\n",
    "\n",
    "from private import PrivateClass\n",
    "\n",
    "my_object = PrivateClass()\n",
    "\n",
    "my_object.public_data\n",
    "\n"
   ]
  },
  {
   "cell_type": "code",
   "execution_count": 23,
   "id": "9b0817c5",
   "metadata": {},
   "outputs": [
    {
     "ename": "AttributeError",
     "evalue": "'PrivateClass' object has no attribute '__private_data'",
     "output_type": "error",
     "traceback": [
      "\u001b[1;31m---------------------------------------------------------------------------\u001b[0m",
      "\u001b[1;31mAttributeError\u001b[0m                            Traceback (most recent call last)",
      "Input \u001b[1;32mIn [23]\u001b[0m, in \u001b[0;36m<cell line: 2>\u001b[1;34m()\u001b[0m\n\u001b[0;32m      1\u001b[0m \u001b[38;5;66;03m# Trying to access private data directly.  It won't work.  \u001b[39;00m\n\u001b[1;32m----> 2\u001b[0m \u001b[43mmy_object\u001b[49m\u001b[38;5;241;43m.\u001b[39;49m\u001b[43m__private_data\u001b[49m\n",
      "\u001b[1;31mAttributeError\u001b[0m: 'PrivateClass' object has no attribute '__private_data'"
     ]
    }
   ],
   "source": [
    "# Trying to access private data directly.  It won't work.  \n",
    "my_object.__private_data"
   ]
  },
  {
   "cell_type": "code",
   "execution_count": 24,
   "id": "183d53b2",
   "metadata": {},
   "outputs": [
    {
     "data": {
      "text/plain": [
       "'private'"
      ]
     },
     "execution_count": 24,
     "metadata": {},
     "output_type": "execute_result"
    }
   ],
   "source": [
    "#modifying private data\n",
    "\n",
    "my_object._PrivateClass__private_data\n"
   ]
  },
  {
   "cell_type": "code",
   "execution_count": 25,
   "id": "132f7f84",
   "metadata": {},
   "outputs": [
    {
     "data": {
      "text/plain": [
       "'modified'"
      ]
     },
     "execution_count": 25,
     "metadata": {},
     "output_type": "execute_result"
    }
   ],
   "source": [
    "my_object._PrivateClass__private_data = 'modified'\n",
    "\n",
    "my_object._PrivateClass__private_data"
   ]
  },
  {
   "cell_type": "code",
   "execution_count": 26,
   "id": "012a7d04",
   "metadata": {},
   "outputs": [
    {
     "name": "stdout",
     "output_type": "stream",
     "text": [
      "Ace of Hearts      2 of Hearts        3 of Hearts        4 of Hearts        \n",
      "5 of Hearts        6 of Hearts        7 of Hearts        8 of Hearts        \n",
      "9 of Hearts        10 of Hearts       Jack of Hearts     Queen of Hearts    \n",
      "King of Hearts     Ace of Diamonds    2 of Diamonds      3 of Diamonds      \n",
      "4 of Diamonds      5 of Diamonds      6 of Diamonds      7 of Diamonds      \n",
      "8 of Diamonds      9 of Diamonds      10 of Diamonds     Jack of Diamonds   \n",
      "Queen of Diamonds  King of Diamonds   Ace of Clubs       2 of Clubs         \n",
      "3 of Clubs         4 of Clubs         5 of Clubs         6 of Clubs         \n",
      "7 of Clubs         8 of Clubs         9 of Clubs         10 of Clubs        \n",
      "Jack of Clubs      Queen of Clubs     King of Clubs      Ace of Spades      \n",
      "2 of Spades        3 of Spades        4 of Spades        5 of Spades        \n",
      "6 of Spades        7 of Spades        8 of Spades        9 of Spades        \n",
      "10 of Spades       Jack of Spades     Queen of Spades    King of Spades     \n",
      "\n"
     ]
    }
   ],
   "source": [
    "#10.6 Cards and dealing simualation\n",
    "\n",
    "from deck import DeckOfCards\n",
    "\n",
    "deck_of_cards = DeckOfCards()\n",
    "\n",
    "print(deck_of_cards)\n"
   ]
  },
  {
   "cell_type": "code",
   "execution_count": 27,
   "id": "008dacb0",
   "metadata": {},
   "outputs": [
    {
     "name": "stdout",
     "output_type": "stream",
     "text": [
      "8 of Diamonds      6 of Spades        8 of Clubs         Queen of Hearts    \n",
      "6 of Diamonds      4 of Clubs         4 of Diamonds      3 of Diamonds      \n",
      "Ace of Diamonds    2 of Clubs         3 of Clubs         4 of Hearts        \n",
      "8 of Hearts        5 of Spades        Ace of Hearts      9 of Spades        \n",
      "King of Clubs      Queen of Spades    3 of Hearts        10 of Diamonds     \n",
      "10 of Clubs        Ace of Spades      King of Hearts     5 of Diamonds      \n",
      "Jack of Diamonds   Jack of Spades     5 of Hearts        9 of Clubs         \n",
      "7 of Clubs         King of Spades     2 of Hearts        7 of Diamonds      \n",
      "10 of Spades       6 of Hearts        Queen of Clubs     Ace of Clubs       \n",
      "5 of Clubs         2 of Diamonds      3 of Spades        9 of Hearts        \n",
      "Jack of Clubs      4 of Spades        6 of Clubs         7 of Spades        \n",
      "Queen of Diamonds  9 of Diamonds      2 of Spades        King of Diamonds   \n",
      "8 of Spades        10 of Hearts       7 of Hearts        Jack of Hearts     \n",
      "\n"
     ]
    }
   ],
   "source": [
    "#Shuffling the deck\n",
    "\n",
    "deck_of_cards.shuffle()\n",
    "\n",
    "print(deck_of_cards)"
   ]
  },
  {
   "cell_type": "code",
   "execution_count": 28,
   "id": "b4ca733d",
   "metadata": {},
   "outputs": [
    {
     "data": {
      "text/plain": [
       "Card(face='8', suit='Diamonds')"
      ]
     },
     "execution_count": 28,
     "metadata": {},
     "output_type": "execute_result"
    }
   ],
   "source": [
    "#dealing out cards\n",
    "deck_of_cards.deal_card()"
   ]
  },
  {
   "cell_type": "code",
   "execution_count": 29,
   "id": "cc603661",
   "metadata": {},
   "outputs": [
    {
     "data": {
      "text/plain": [
       "'6 of Spades'"
      ]
     },
     "execution_count": 29,
     "metadata": {},
     "output_type": "execute_result"
    }
   ],
   "source": [
    "#Writing what the card is as a string\n",
    "card = deck_of_cards.deal_card()\n",
    "\n",
    "str(card)"
   ]
  },
  {
   "cell_type": "code",
   "execution_count": 30,
   "id": "2bc74349",
   "metadata": {},
   "outputs": [
    {
     "data": {
      "text/plain": [
       "'6_of_Spades.png'"
      ]
     },
     "execution_count": 30,
     "metadata": {},
     "output_type": "execute_result"
    }
   ],
   "source": [
    "card.image_name\n"
   ]
  },
  {
   "cell_type": "code",
   "execution_count": 31,
   "id": "cf428866",
   "metadata": {},
   "outputs": [
    {
     "name": "stdout",
     "output_type": "stream",
     "text": [
      "Using matplotlib backend: <object object at 0x000001BB8CDF9980>\n"
     ]
    },
    {
     "ename": "AttributeError",
     "evalue": "'NoneType' object has no attribute 'image_name'",
     "output_type": "error",
     "traceback": [
      "\u001b[1;31m---------------------------------------------------------------------------\u001b[0m",
      "\u001b[1;31mAttributeError\u001b[0m                            Traceback (most recent call last)",
      "Input \u001b[1;32mIn [31]\u001b[0m, in \u001b[0;36m<cell line: 14>\u001b[1;34m()\u001b[0m\n\u001b[0;32m     15\u001b[0m axes\u001b[38;5;241m.\u001b[39mget_xaxis()\u001b[38;5;241m.\u001b[39mset_visible(\u001b[38;5;28;01mFalse\u001b[39;00m)\n\u001b[0;32m     16\u001b[0m axes\u001b[38;5;241m.\u001b[39mget_yaxis()\u001b[38;5;241m.\u001b[39mset_visible(\u001b[38;5;28;01mFalse\u001b[39;00m)\n\u001b[1;32m---> 17\u001b[0m image_name \u001b[38;5;241m=\u001b[39m \u001b[43mdeck_of_cards\u001b[49m\u001b[38;5;241;43m.\u001b[39;49m\u001b[43mdeal_card\u001b[49m\u001b[43m(\u001b[49m\u001b[43m)\u001b[49m\u001b[38;5;241;43m.\u001b[39;49m\u001b[43mimage_name\u001b[49m\n\u001b[0;32m     18\u001b[0m img \u001b[38;5;241m=\u001b[39m mpimg\u001b[38;5;241m.\u001b[39mimread(\u001b[38;5;28mstr\u001b[39m(path\u001b[38;5;241m.\u001b[39mjoinpath(image_name)\u001b[38;5;241m.\u001b[39mresolve()))\n\u001b[0;32m     19\u001b[0m axes\u001b[38;5;241m.\u001b[39mimshow(img)\n",
      "\u001b[1;31mAttributeError\u001b[0m: 'NoneType' object has no attribute 'image_name'"
     ]
    }
   ],
   "source": [
    "#Displaying card images\n",
    "%matplotlib\n",
    "\n",
    "from pathlib import Path\n",
    "\n",
    "path = Path('.').joinpath('card_images')\n",
    "\n",
    "import matplotlib.pyplot as plt\n",
    "\n",
    "import matplotlib.image as mpimg\n",
    "\n",
    "figure, axes_list = plt.subplots(nrows=4, ncols=13)\n",
    "\n",
    "for axes in axes_list.ravel():\n",
    "    axes.get_xaxis().set_visible(False)\n",
    "    axes.get_yaxis().set_visible(False)\n",
    "    image_name = deck_of_cards.deal_card().image_name\n",
    "    img = mpimg.imread(str(path.joinpath(image_name).resolve()))\n",
    "    axes.imshow(img)\n",
    "    \n",
    "figure.tight_layout()"
   ]
  },
  {
   "cell_type": "code",
   "execution_count": 14,
   "id": "0763bbfb",
   "metadata": {},
   "outputs": [
    {
     "data": {
      "text/plain": [
       "CommissionEmployee: Chris Kollbaum\n",
       "social security number: 123-45-6789\n",
       "gross sales: 10000.00\n",
       "commission rate: 0.06"
      ]
     },
     "execution_count": 14,
     "metadata": {},
     "output_type": "execute_result"
    }
   ],
   "source": [
    "#10.8 Polymorphism\n",
    "\n",
    "from commissionemployee import CommissionEmployee\n",
    "\n",
    "from decimal import Decimal\n",
    "\n",
    "c = CommissionEmployee('Chris', 'Kollbaum', '123-45-6789',\n",
    "                     Decimal('10000.00'), Decimal('0.06'))\n",
    "\n",
    "c"
   ]
  },
  {
   "cell_type": "code",
   "execution_count": 15,
   "id": "8dc69af8",
   "metadata": {},
   "outputs": [
    {
     "name": "stdout",
     "output_type": "stream",
     "text": [
      "600.00\n"
     ]
    }
   ],
   "source": [
    "#Finding the employee's earnings \n",
    "print(f'{c.earnings():,.2f}')"
   ]
  },
  {
   "cell_type": "code",
   "execution_count": 18,
   "id": "8c237dd5",
   "metadata": {},
   "outputs": [
    {
     "name": "stdout",
     "output_type": "stream",
     "text": [
      "2,000.00\n"
     ]
    }
   ],
   "source": [
    "#changing the employees gross sales and commission rate\n",
    "c.gross_sales = Decimal('20000.00')\n",
    "\n",
    "c.commission_rate = Decimal('0.1')\n",
    "\n",
    "print(f'{c.earnings():,.2f}')"
   ]
  },
  {
   "cell_type": "code",
   "execution_count": 28,
   "id": "406a1fc2",
   "metadata": {},
   "outputs": [
    {
     "name": "stdout",
     "output_type": "stream",
     "text": [
      "Chris Hampton 123-45-6787 7000.00 0.03 250.00\n"
     ]
    }
   ],
   "source": [
    "#Testing the class salariedcommissionemployee\n",
    "from salariedcommissionemployee import SalariedCommissionEmployee\n",
    "\n",
    "s = SalariedCommissionEmployee('Chris', 'Hampton', '123-45-6787', Decimal('7000.00'), Decimal('0.03'), Decimal('250.00'))\n",
    "\n",
    "print(s.first_name, s.last_name, s.ssn, s.gross_sales, s.commission_rate, s.base_salary)"
   ]
  },
  {
   "cell_type": "code",
   "execution_count": 29,
   "id": "cf07ad20",
   "metadata": {},
   "outputs": [
    {
     "name": "stdout",
     "output_type": "stream",
     "text": [
      "460.00\n"
     ]
    }
   ],
   "source": [
    "#Finding the employees earnings\n",
    "print(f'{s.earnings():,.2f}')"
   ]
  },
  {
   "cell_type": "code",
   "execution_count": 30,
   "id": "e5195638",
   "metadata": {},
   "outputs": [
    {
     "name": "stdout",
     "output_type": "stream",
     "text": [
      "SalariedCommissionEmployee: Chris Hampton\n",
      "social security number: 123-45-6787\n",
      "gross sales: 10000.00\n",
      "commission rate: 0.05\n",
      "base salary: 2000.00\n"
     ]
    }
   ],
   "source": [
    "#Modifying the data\n",
    "s.gross_sales = Decimal('10000.00')\n",
    "\n",
    "s.commission_rate = Decimal('0.05')\n",
    "\n",
    "s.base_salary = Decimal('2000.00')\n",
    "\n",
    "print(s)"
   ]
  },
  {
   "cell_type": "code",
   "execution_count": 31,
   "id": "315a0c82",
   "metadata": {},
   "outputs": [
    {
     "name": "stdout",
     "output_type": "stream",
     "text": [
      "2,500.00\n"
     ]
    }
   ],
   "source": [
    "#Now finding the earnings\n",
    "print(f'{s.earnings():,.2f}')"
   ]
  },
  {
   "cell_type": "code",
   "execution_count": 32,
   "id": "f3d45d33",
   "metadata": {},
   "outputs": [
    {
     "data": {
      "text/plain": [
       "True"
      ]
     },
     "execution_count": 32,
     "metadata": {},
     "output_type": "execute_result"
    }
   ],
   "source": [
    "#Testing the relationship of the classes\n",
    "issubclass(SalariedCommissionEmployee, CommissionEmployee)"
   ]
  },
  {
   "cell_type": "code",
   "execution_count": 33,
   "id": "09c69326",
   "metadata": {},
   "outputs": [
    {
     "data": {
      "text/plain": [
       "True"
      ]
     },
     "execution_count": 33,
     "metadata": {},
     "output_type": "execute_result"
    }
   ],
   "source": [
    "#Confirming the \"is a\" relationship \n",
    "isinstance(s, CommissionEmployee)"
   ]
  },
  {
   "cell_type": "code",
   "execution_count": 34,
   "id": "2c844588",
   "metadata": {},
   "outputs": [
    {
     "data": {
      "text/plain": [
       "True"
      ]
     },
     "execution_count": 34,
     "metadata": {},
     "output_type": "execute_result"
    }
   ],
   "source": [
    "isinstance(s, SalariedCommissionEmployee)"
   ]
  },
  {
   "cell_type": "code",
   "execution_count": 35,
   "id": "e837497b",
   "metadata": {},
   "outputs": [
    {
     "name": "stdout",
     "output_type": "stream",
     "text": [
      "CommissionEmployee: Chris Kollbaum\n",
      "social security number: 123-45-6789\n",
      "gross sales: 20000.00\n",
      "commission rate: 0.10\n",
      "2,000.00\n",
      "\n",
      "SalariedCommissionEmployee: Chris Hampton\n",
      "social security number: 123-45-6787\n",
      "gross sales: 10000.00\n",
      "commission rate: 0.05\n",
      "base salary: 2000.00\n",
      "2,500.00\n",
      "\n"
     ]
    }
   ],
   "source": [
    "#Using these relationships to do manipulations\n",
    "employees = [c, s]\n",
    "\n",
    "for employee in employees:\n",
    "    print(employee)\n",
    "    print(f'{employee.earnings():,.2f}\\n')"
   ]
  },
  {
   "cell_type": "code",
   "execution_count": 43,
   "id": "e5e0d72c",
   "metadata": {},
   "outputs": [
    {
     "name": "stdout",
     "output_type": "stream",
     "text": [
      "CommissionEmployee: Chris Kollbaum\n",
      "social security number: 123-45-6789\n",
      "gross sales: 100000.00\n",
      "commission rate: 0.07\n",
      "7,000.00\n",
      "\n",
      "SalariedCommissionEmployee: Chris Hampton\n",
      "social security number: 123-45-6787\n",
      "gross sales: 200000.00\n",
      "commission rate: 0.04\n",
      "base salary: 500.00\n",
      "8,500.00\n",
      "\n",
      "I am a well paid duck\n",
      "1,000,000,000.00\n",
      "\n"
     ]
    }
   ],
   "source": [
    "#10.9 Duck Typing and Polymorphism\n",
    "\n",
    "class WellPaidDuck:\n",
    "    def __repr__(self):\n",
    "        return 'I am a well paid duck'\n",
    "    def earnings(self):\n",
    "        return Decimal('1_000_000_000.00')\n",
    "    \n",
    "from decimal import Decimal\n",
    "\n",
    "from commissionemployee import CommissionEmployee\n",
    "\n",
    "from salariedcommissionemployee import SalariedCommissionEmployee\n",
    "\n",
    "c = CommissionEmployee('Chris', 'Kollbaum', '123-45-6789', Decimal('100000.00'), Decimal('0.07'))\n",
    "\n",
    "s = SalariedCommissionEmployee('Chris', 'Hampton', '123-45-6787', Decimal('200000.00'), Decimal('0.04'), Decimal('500.00'))\n",
    "\n",
    "d = WellPaidDuck()\n",
    "\n",
    "employees = [c, s, d]\n",
    "\n",
    "for employee in employees:\n",
    "    print(employee)\n",
    "    print(f'{employee.earnings():,.2f}\\n')"
   ]
  },
  {
   "cell_type": "code",
   "execution_count": 45,
   "id": "5e337df7",
   "metadata": {},
   "outputs": [
    {
     "name": "stdout",
     "output_type": "stream",
     "text": [
      "(2 + 4i)\n",
      "(5 - 3i)\n"
     ]
    }
   ],
   "source": [
    "#Operator overloading \n",
    "#Working with complex numbers\n",
    "\n",
    "from complexnumber import Complex\n",
    "\n",
    "x = Complex(real=2, imaginary=4)\n",
    "\n",
    "y = Complex(real=5, imaginary=-3)\n",
    "\n",
    "print(x)\n",
    "\n",
    "print(y)"
   ]
  },
  {
   "cell_type": "code",
   "execution_count": 46,
   "id": "86509e3a",
   "metadata": {},
   "outputs": [
    {
     "data": {
      "text/plain": [
       "(7 + 1i)"
      ]
     },
     "execution_count": 46,
     "metadata": {},
     "output_type": "execute_result"
    }
   ],
   "source": [
    "#adding complex numbers\n",
    "x + y\n",
    "\n",
    "#x and y are not modified"
   ]
  },
  {
   "cell_type": "code",
   "execution_count": 47,
   "id": "b3c4357c",
   "metadata": {},
   "outputs": [
    {
     "name": "stdout",
     "output_type": "stream",
     "text": [
      "(7 + 1i)\n",
      "(5 - 3i)\n"
     ]
    }
   ],
   "source": [
    "#now adding and putting the result as x\n",
    "\n",
    "x += y\n",
    "\n",
    "print(x)\n",
    "\n",
    "print(y)"
   ]
  },
  {
   "cell_type": "code",
   "execution_count": 50,
   "id": "fc73fb0a",
   "metadata": {},
   "outputs": [
    {
     "name": "stdout",
     "output_type": "stream",
     "text": [
      "(6 - 12i)\n",
      "(-2 + 9i)\n"
     ]
    }
   ],
   "source": [
    "#10.10 Self check doing the same but subtracting and saving the result as x\n",
    "from complexnumber2 import Complex\n",
    "\n",
    "x = Complex(real=4, imaginary=-3)\n",
    "y = Complex(real=-2, imaginary=9)\n",
    "x - y\n",
    "x -= y\n",
    "print(x)\n",
    "print(y)"
   ]
  },
  {
   "cell_type": "code",
   "execution_count": 51,
   "id": "50a41992",
   "metadata": {},
   "outputs": [
    {
     "name": "stdout",
     "output_type": "stream",
     "text": [
      "Ace\n",
      "Clubs\n",
      "Card(face='Ace', suit='Clubs')\n"
     ]
    }
   ],
   "source": [
    "#10.12 Named Tuples\n",
    "\n",
    "#Creating a simple named tuple\n",
    "\n",
    "from collections import namedtuple\n",
    "\n",
    "Card =  namedtuple('Card', ['face', 'suit'])\n",
    "\n",
    "card = Card(face='Ace', suit='Clubs')\n",
    "\n",
    "print(card.face)\n",
    "\n",
    "print(card.suit)\n",
    "\n",
    "print(card)"
   ]
  },
  {
   "cell_type": "code",
   "execution_count": 52,
   "id": "fbc328ab",
   "metadata": {},
   "outputs": [
    {
     "data": {
      "text/plain": [
       "Card(face='Jack', suit='Spades')"
      ]
     },
     "execution_count": 52,
     "metadata": {},
     "output_type": "execute_result"
    }
   ],
   "source": [
    "#recieving an iterable of values and returning an object of the named tuple\n",
    "values = ['Jack', 'Spades']\n",
    "\n",
    "card = Card._make(values)\n",
    "\n",
    "card"
   ]
  },
  {
   "cell_type": "code",
   "execution_count": 54,
   "id": "b7cd21be",
   "metadata": {},
   "outputs": [
    {
     "data": {
      "text/plain": [
       "{'face': 'Jack', 'suit': 'Spades'}"
      ]
     },
     "execution_count": 54,
     "metadata": {},
     "output_type": "execute_result"
    }
   ],
   "source": [
    "#Getting an ordered dictionary representation of the named tuple \n",
    "\n",
    "card._asdict()\n",
    "\n"
   ]
  },
  {
   "cell_type": "code",
   "execution_count": 56,
   "id": "19f05736",
   "metadata": {},
   "outputs": [
    {
     "name": "stdout",
     "output_type": "stream",
     "text": [
      "10 30 37\n",
      "Time(hour=10, minute=30, second=37)\n"
     ]
    }
   ],
   "source": [
    "#10.12 Self Check\n",
    "\n",
    "#Creating a named tuple of time and then a time object and displaying it\n",
    "\n",
    "from collections import namedtuple\n",
    "\n",
    "Time = namedtuple('Time', ['hour', 'minute', 'second'])\n",
    "\n",
    "t = Time(10, 30, 37)\n",
    "\n",
    "print(t.hour, t.minute, t.second)\n",
    "\n",
    "print(t)"
   ]
  },
  {
   "cell_type": "code",
   "execution_count": 58,
   "id": "65266289",
   "metadata": {},
   "outputs": [
    {
     "data": {
      "text/plain": [
       "Card(face='Ace', suit='Spades')"
      ]
     },
     "execution_count": 58,
     "metadata": {},
     "output_type": "execute_result"
    }
   ],
   "source": [
    "#10.13 New Data Classes\n",
    "#Demonstrating the new Card data class\n",
    "\n",
    "from carddataclass import Card\n",
    "#This creates a card\n",
    "c1 = Card(Card.FACES[0], Card.SUITS[3])\n",
    "\n",
    "c1"
   ]
  },
  {
   "cell_type": "code",
   "execution_count": 59,
   "id": "9eaa8a27",
   "metadata": {},
   "outputs": [
    {
     "name": "stdout",
     "output_type": "stream",
     "text": [
      "Ace of Spades\n"
     ]
    }
   ],
   "source": [
    "#printing this as a string\n",
    "print(c1)"
   ]
  },
  {
   "cell_type": "code",
   "execution_count": 61,
   "id": "4da37fd3",
   "metadata": {},
   "outputs": [
    {
     "name": "stdout",
     "output_type": "stream",
     "text": [
      "Ace\n",
      "Spades\n",
      "Ace_of_Spades.png\n"
     ]
    }
   ],
   "source": [
    "#accessing the class's attributes\n",
    "\n",
    "print(c1.face)\n",
    "\n",
    "print(c1.suit)\n",
    "\n",
    "print(c1.image_name)"
   ]
  },
  {
   "cell_type": "code",
   "execution_count": 62,
   "id": "0f724b72",
   "metadata": {},
   "outputs": [
    {
     "name": "stdout",
     "output_type": "stream",
     "text": [
      "Ace of Spades\n",
      "Ace of Hearts\n"
     ]
    }
   ],
   "source": [
    "#comparing different card objects \n",
    "\n",
    "c2 = Card(Card.FACES[0], Card.SUITS[3])\n",
    "\n",
    "c3 = Card(Card.FACES[0], Card.SUITS[0])\n",
    "\n",
    "print(c2)\n",
    "\n",
    "print(c3)"
   ]
  },
  {
   "cell_type": "code",
   "execution_count": 63,
   "id": "c0e4e7e0",
   "metadata": {},
   "outputs": [
    {
     "data": {
      "text/plain": [
       "False"
      ]
     },
     "execution_count": 63,
     "metadata": {},
     "output_type": "execute_result"
    }
   ],
   "source": [
    "c2 == c3"
   ]
  },
  {
   "cell_type": "code",
   "execution_count": 64,
   "id": "54bba69e",
   "metadata": {},
   "outputs": [
    {
     "data": {
      "text/plain": [
       "False"
      ]
     },
     "execution_count": 64,
     "metadata": {},
     "output_type": "execute_result"
    }
   ],
   "source": [
    "c1 == c3"
   ]
  },
  {
   "cell_type": "code",
   "execution_count": 65,
   "id": "4118d97c",
   "metadata": {},
   "outputs": [
    {
     "data": {
      "text/plain": [
       "True"
      ]
     },
     "execution_count": 65,
     "metadata": {},
     "output_type": "execute_result"
    }
   ],
   "source": [
    "c1 != c3"
   ]
  },
  {
   "cell_type": "code",
   "execution_count": 66,
   "id": "4d0bcffb",
   "metadata": {},
   "outputs": [
    {
     "data": {
      "text/plain": [
       "True"
      ]
     },
     "execution_count": 66,
     "metadata": {},
     "output_type": "execute_result"
    }
   ],
   "source": [
    "c1 == c2"
   ]
  },
  {
   "cell_type": "code",
   "execution_count": 68,
   "id": "2402d224",
   "metadata": {},
   "outputs": [
    {
     "name": "stdout",
     "output_type": "stream",
     "text": [
      "Ace of Hearts      2 of Hearts        3 of Hearts        4 of Hearts        \n",
      "5 of Hearts        6 of Hearts        7 of Hearts        8 of Hearts        \n",
      "9 of Hearts        10 of Hearts       Jack of Hearts     Queen of Hearts    \n",
      "King of Hearts     Ace of Diamonds    2 of Diamonds      3 of Diamonds      \n",
      "4 of Diamonds      5 of Diamonds      6 of Diamonds      7 of Diamonds      \n",
      "8 of Diamonds      9 of Diamonds      10 of Diamonds     Jack of Diamonds   \n",
      "Queen of Diamonds  King of Diamonds   Ace of Clubs       2 of Clubs         \n",
      "3 of Clubs         4 of Clubs         5 of Clubs         6 of Clubs         \n",
      "7 of Clubs         8 of Clubs         9 of Clubs         10 of Clubs        \n",
      "Jack of Clubs      Queen of Clubs     King of Clubs      Ace of Spades      \n",
      "2 of Spades        3 of Spades        4 of Spades        5 of Spades        \n",
      "6 of Spades        7 of Spades        8 of Spades        9 of Spades        \n",
      "10 of Spades       Jack of Spades     Queen of Spades    King of Spades     \n",
      "\n"
     ]
    }
   ],
   "source": [
    "#printing deck of cards in order\n",
    "from deck2 import DeckOfCards\n",
    "\n",
    "deck_of_cards = DeckOfCards()\n",
    "\n",
    "print(deck_of_cards)"
   ]
  },
  {
   "cell_type": "code",
   "execution_count": 69,
   "id": "8ff60d39",
   "metadata": {},
   "outputs": [
    {
     "name": "stdout",
     "output_type": "stream",
     "text": [
      "Ace of Spades\n"
     ]
    }
   ],
   "source": [
    "#self check 10.13.2 Creating an object and displaying the attributes \n",
    "from carddataclass import Card\n",
    "\n",
    "c = Card('Ace', 'Spades')\n",
    "\n",
    "print(c)\n"
   ]
  },
  {
   "cell_type": "code",
   "execution_count": 70,
   "id": "874d4571",
   "metadata": {},
   "outputs": [
    {
     "data": {
      "text/plain": [
       "str"
      ]
     },
     "execution_count": 70,
     "metadata": {},
     "output_type": "execute_result"
    }
   ],
   "source": [
    "type(c.face)"
   ]
  },
  {
   "cell_type": "code",
   "execution_count": 71,
   "id": "a45c6a13",
   "metadata": {},
   "outputs": [
    {
     "data": {
      "text/plain": [
       "Card(face=100, suit='Spades')"
      ]
     },
     "execution_count": 71,
     "metadata": {},
     "output_type": "execute_result"
    }
   ],
   "source": [
    "c.face = 100\n",
    "\n",
    "c"
   ]
  },
  {
   "cell_type": "code",
   "execution_count": 72,
   "id": "7b295063",
   "metadata": {},
   "outputs": [
    {
     "data": {
      "text/plain": [
       "int"
      ]
     },
     "execution_count": 72,
     "metadata": {},
     "output_type": "execute_result"
    }
   ],
   "source": [
    "type(c.face)"
   ]
  },
  {
   "cell_type": "code",
   "execution_count": 78,
   "id": "4675ee79",
   "metadata": {},
   "outputs": [
    {
     "ename": "NameError",
     "evalue": "name 'r' is not defined",
     "output_type": "error",
     "traceback": [
      "\u001b[1;31m---------------------------------------------------------------------------\u001b[0m",
      "\u001b[1;31mNameError\u001b[0m                                 Traceback (most recent call last)",
      "Input \u001b[1;32mIn [78]\u001b[0m, in \u001b[0;36m<cell line: 11>\u001b[1;34m()\u001b[0m\n\u001b[0;32m      8\u001b[0m     \u001b[38;5;28mprint\u001b[39m(r)\n\u001b[0;32m      9\u001b[0m     \u001b[38;5;28mprint\u001b[39m(z)\n\u001b[1;32m---> 11\u001b[0m \u001b[43mprint_variables\u001b[49m\u001b[43m(\u001b[49m\u001b[43m)\u001b[49m\n",
      "Input \u001b[1;32mIn [78]\u001b[0m, in \u001b[0;36mprint_variables\u001b[1;34m()\u001b[0m\n\u001b[0;32m      7\u001b[0m \u001b[38;5;28;01mdef\u001b[39;00m \u001b[38;5;21mprint_variables\u001b[39m():\n\u001b[1;32m----> 8\u001b[0m     \u001b[38;5;28mprint\u001b[39m(\u001b[43mr\u001b[49m)\n\u001b[0;32m      9\u001b[0m     \u001b[38;5;28mprint\u001b[39m(z)\n",
      "\u001b[1;31mNameError\u001b[0m: name 'r' is not defined"
     ]
    }
   ],
   "source": [
    "#10.15 Namespaces\n",
    "#Finding Identifiers in namespaces\n",
    "#This helps us understand the search order for a namespace.  Python searches from local to global to built-in\n",
    "#Proving r is not defined\n",
    "\n",
    "z = 'global z'\n",
    "\n",
    "def print_variables():\n",
    "    print(r)\n",
    "    print(z)\n",
    "    \n",
    "print_variables()\n"
   ]
  },
  {
   "cell_type": "code",
   "execution_count": 79,
   "id": "7c970275",
   "metadata": {},
   "outputs": [
    {
     "data": {
      "text/plain": [
       "'global z'"
      ]
     },
     "execution_count": 79,
     "metadata": {},
     "output_type": "execute_result"
    }
   ],
   "source": [
    "z"
   ]
  },
  {
   "cell_type": "code",
   "execution_count": null,
   "id": "01ec8866",
   "metadata": {},
   "outputs": [],
   "source": []
  }
 ],
 "metadata": {
  "kernelspec": {
   "display_name": "Python 3 (ipykernel)",
   "language": "python",
   "name": "python3"
  },
  "language_info": {
   "codemirror_mode": {
    "name": "ipython",
    "version": 3
   },
   "file_extension": ".py",
   "mimetype": "text/x-python",
   "name": "python",
   "nbconvert_exporter": "python",
   "pygments_lexer": "ipython3",
   "version": "3.9.12"
  }
 },
 "nbformat": 4,
 "nbformat_minor": 5
}
